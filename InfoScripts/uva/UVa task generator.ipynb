{
 "cells": [
  {
   "cell_type": "code",
   "execution_count": 22,
   "metadata": {
    "collapsed": false
   },
   "outputs": [
    {
     "name": "stderr",
     "output_type": "stream",
     "text": [
      "usage: __main__.py [-h] [--cns [CNS [CNS ...]]] username\n",
      "__main__.py: error: unrecognized arguments: -f\n"
     ]
    },
    {
     "ename": "SystemExit",
     "evalue": "2",
     "output_type": "error",
     "traceback": [
      "An exception has occurred, use %tb to see the full traceback.\n",
      "\u001b[0;31mSystemExit\u001b[0m\u001b[0;31m:\u001b[0m 2\n"
     ]
    }
   ],
   "source": [
    "import requests\n",
    "import random\n",
    "import argparse\n",
    "import itertools\n",
    "\n",
    "def getChapterTasks(chapters):\n",
    "    chapters_to_include = chapters\n",
    "    chapters_json = requests.get('http://uhunt.felix-halim.net/api/cpbook/3').json()\n",
    "    chapters = [chapters_json[x - 1] for x in chapters_to_include]\n",
    "    tasks = [sub_sub_chapter for chapter in chapters for sub_chapter in chapter['arr'] for sub_sub_chapter in sub_chapter['arr']]\n",
    "    tasks = filter(lambda task: type(task) == int, [task for array in tasks for task in array])\n",
    "    tasks = map(lambda task: -task if task < 0 else task, tasks)\n",
    "    return tasks\n",
    "\n",
    "def getUserSubmissions(username):\n",
    "    user_id = int(requests.get('http://uhunt.felix-halim.net/api/uname2uid/{0}'.format(username)).text)\n",
    "    pids = set([sub[1] for sub in requests.get('http://uhunt.felix-halim.net/api/subs-user/{0}'.format(user_id)).json()['subs']])\n",
    "    print username\n",
    "    print user_id\n",
    "    return pids\n",
    "    \n",
    "def getNextTaskToSolve(tasks, pids):\n",
    "    random.shuffle(tasks)\n",
    "    while True:\n",
    "        taskIndex = random.randint(0, len(tasks) - 1)\n",
    "        nextPid = requests.get('http://uhunt.felix-halim.net/api/p/num/{0}'.format(tasks[taskIndex])).json()['pid']\n",
    "        if nextPid in pids:\n",
    "            del tasks[taskIndex]\n",
    "        else:\n",
    "            return tasks[taskIndex]\n",
    "            \n",
    "def handleArguments():\n",
    "    parser = argparse.ArgumentParser(description='Generate the next task to solve on UVa from textbook (3rd edition)')\n",
    "    parser.add_argument('username', action='store', nargs=1, type=str, help='username of profile to generate next unsolved task')\n",
    "    parser.add_argument('--cns', action='store', nargs='*', default=range(1,10), \n",
    "                        type=int, required=False,\n",
    "                        help='number of chapters to generate tasks from')\n",
    "    return parser.parse_args()\n",
    "    \n",
    "args = handleArguments()\n",
    "tasks = getChapterTasks(args.cns)\n",
    "pids = getUserSubmissions(args.username[0])\n",
    "print 'Next task to solve: {0}'.format(getNextTaskToSolve(tasks, pids))"
   ]
  }
 ],
 "metadata": {
  "anaconda-cloud": {},
  "kernelspec": {
   "display_name": "Python [default]",
   "language": "python",
   "name": "python2"
  },
  "language_info": {
   "codemirror_mode": {
    "name": "ipython",
    "version": 2
   },
   "file_extension": ".py",
   "mimetype": "text/x-python",
   "name": "python",
   "nbconvert_exporter": "python",
   "pygments_lexer": "ipython2",
   "version": "2.7.12"
  }
 },
 "nbformat": 4,
 "nbformat_minor": 1
}
